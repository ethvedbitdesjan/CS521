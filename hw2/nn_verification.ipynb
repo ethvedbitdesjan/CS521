{
 "cells": [
  {
   "cell_type": "code",
   "execution_count": 1,
   "metadata": {},
   "outputs": [],
   "source": [
    "from data_utils import *\n",
    "from model_utils import *\n",
    "from interval_model import *\n",
    "from train_test import *\n",
    "import gc"
   ]
  },
  {
   "cell_type": "markdown",
   "metadata": {},
   "source": [
    "# sanity checks"
   ]
  },
  {
   "cell_type": "code",
   "execution_count": 3,
   "metadata": {},
   "outputs": [
    {
     "name": "stdout",
     "output_type": "stream",
     "text": [
      "Object count differences:\n",
      "ReferenceType: 29\n",
      "builtin_function_or_method: 26\n",
      "lock: 1\n",
      "Counter: 1\n",
      "Object count differences in CPU When checking GPU:\n",
      "builtin_function_or_method: 1\n"
     ]
    }
   ],
   "source": [
    "#Memory Checks\n",
    "from collections import Counter\n",
    "\n",
    "def get_object_counts():\n",
    "    return Counter(type(obj).__name__ for obj in gc.get_objects())\n",
    "\n",
    "#model loader\n",
    "initial_objects = get_object_counts()\n",
    "model = load_model()\n",
    "\n",
    "#interval model converter\n",
    "interval_model = IntervalModel(model)\n",
    "\n",
    "del model\n",
    "del interval_model\n",
    "gc.collect()\n",
    "\n",
    "remaining_objects = get_object_counts()\n",
    "diff = remaining_objects - initial_objects\n",
    "print(\"Object count differences:\")\n",
    "for obj_type, count in diff.items():\n",
    "    if count != 0:\n",
    "        print(f\"{obj_type}: {count}\")\n",
    "\n",
    "#Memory Checks CUDA\n",
    "initial_objects = get_object_counts()\n",
    "initial_allocated = torch.cuda.memory_allocated()\n",
    "\n",
    "model = load_model()\n",
    "model = model.to('cuda')\n",
    "interval_model = IntervalModel(model)\n",
    "\n",
    "del model\n",
    "del interval_model\n",
    "torch.cuda.empty_cache()\n",
    "gc.collect()\n",
    "\n",
    "remaining_objects = get_object_counts()\n",
    "diff = remaining_objects - initial_objects\n",
    "print(\"Object count differences in CPU When checking GPU:\")\n",
    "for obj_type, count in diff.items():\n",
    "    if count != 0:\n",
    "        print(f\"{obj_type}: {count}\")\n",
    "remaining_allocated = torch.cuda.memory_allocated()\n",
    "\n",
    "if remaining_allocated > initial_allocated:\n",
    "    print(\"Memory leak detected GPU\")"
   ]
  },
  {
   "cell_type": "markdown",
   "metadata": {},
   "source": [
    "cpu memory differences usually do not matter if the differences are small"
   ]
  },
  {
   "cell_type": "code",
   "execution_count": 4,
   "metadata": {},
   "outputs": [
    {
     "name": "stdout",
     "output_type": "stream",
     "text": [
      "Inputs Shape torch.Size([64, 1, 28, 28])\n",
      "Checking on CUDA\n",
      "Passed All Checks\n"
     ]
    }
   ],
   "source": [
    "\n",
    "#model loader\n",
    "model = load_model()\n",
    "\n",
    "#interval model converter\n",
    "interval_model = IntervalModel(model)\n",
    "\n",
    "#data loader\n",
    "train_dataloader, test_dataloader = load_dataloader('mnist_data/')\n",
    "\n",
    "data = next(iter(test_dataloader))\n",
    "inputs, labels = data\n",
    "print(\"Inputs Shape\", inputs.shape) #(B, C, H, W)\n",
    "\n",
    "# model forward\n",
    "output = model(inputs)\n",
    "\n",
    "#create interval\n",
    "epsilon = 0.1\n",
    "interval = Interval(inputs-epsilon, inputs+epsilon)\n",
    "# interval model forward\n",
    "output_interval = interval_model(interval)\n",
    "assert output.shape == output_interval.lower.shape and output.shape == output_interval.upper.shape #(B, 10)\n",
    "\n",
    "output = output.flatten().detach().numpy()\n",
    "output_interval = output_interval.lower.flatten().detach().numpy(), output_interval.upper.flatten().detach().numpy()\n",
    "\n",
    "for i in range(len(output)):\n",
    "    if output[i] < output_interval[0][i] or output[i] > output_interval[1][i]:\n",
    "        print(f'output: {output[i]}, interval: {output_interval[0][i]} ~ {output_interval[1][i]}')\n",
    "        raise('error')\n",
    "        break\n",
    "\n",
    "print('Checking on CUDA')\n",
    "model = model.cuda()\n",
    "interval_model = IntervalModel(model).cuda()\n",
    "inputs = inputs.cuda()\n",
    "interval = Interval((inputs-epsilon).cuda(), (inputs+epsilon).cuda())\n",
    "output = model(inputs)\n",
    "interval_output = interval_model(interval)\n",
    "assert output.shape == interval_output.lower.shape == interval_output.upper.shape\n",
    "output = output.flatten().detach().cpu().numpy()\n",
    "interval_output = interval_output.lower.flatten().detach().cpu().numpy(), interval_output.upper.flatten().detach().cpu().numpy()\n",
    "for i in range(len(output)):\n",
    "    if output[i] < interval_output[0][i] or output[i] > interval_output[1][i]:\n",
    "        print(f'output: {output[i]}, interval: {interval_output[0][i]} ~ {interval_output[1][i]}')\n",
    "        raise('error')\n",
    "        break\n",
    "del model, interval_model, data, inputs, labels, output, output_interval, interval\n",
    "\n",
    "torch.cuda.empty_cache()\n",
    "gc.collect()\n",
    "\n",
    "print(\"Passed All Checks\")"
   ]
  },
  {
   "cell_type": "markdown",
   "metadata": {},
   "source": [
    "# Robustness(Verification & Adversarial)"
   ]
  },
  {
   "cell_type": "markdown",
   "metadata": {},
   "source": []
  },
  {
   "cell_type": "markdown",
   "metadata": {},
   "source": [
    "### Training for Base and Robust Model"
   ]
  },
  {
   "cell_type": "code",
   "execution_count": 8,
   "metadata": {},
   "outputs": [
    {
     "name": "stdout",
     "output_type": "stream",
     "text": [
      "Epoch 0 done, Epoch Loss 313.5113487429917, Time Taken 6.19356894493103\n",
      "Epoch 1 done, Epoch Loss 142.16197295486927, Time Taken 6.008989572525024\n",
      "Epoch 2 done, Epoch Loss 103.84226002544165, Time Taken 7.001872777938843\n",
      "Epoch 3 done, Epoch Loss 82.31326879560947, Time Taken 5.678766965866089\n",
      "Epoch 4 done, Epoch Loss 69.12193400179967, Time Taken 5.573289155960083\n",
      "Epoch 5 done, Epoch Loss 58.68500934075564, Time Taken 5.416965961456299\n",
      "Epoch 6 done, Epoch Loss 53.14543439797126, Time Taken 5.172173500061035\n",
      "Epoch 7 done, Epoch Loss 45.813794503570534, Time Taken 5.046792268753052\n",
      "Epoch 8 done, Epoch Loss 40.80135437916033, Time Taken 5.45028829574585\n",
      "Epoch 9 done, Epoch Loss 37.5779783584876, Time Taken 5.0276477336883545\n",
      "Epoch 10 done, Epoch Loss 34.54477775498526, Time Taken 4.848768472671509\n",
      "Epoch 11 done, Epoch Loss 29.095335150894243, Time Taken 4.7348668575286865\n",
      "Epoch 12 done, Epoch Loss 26.590752813906875, Time Taken 4.738645553588867\n",
      "Epoch 13 done, Epoch Loss 28.655630004694103, Time Taken 4.910022497177124\n",
      "Epoch 14 done, Epoch Loss 24.031529209925793, Time Taken 4.7649524211883545\n",
      "Epoch 15 done, Epoch Loss 21.77885166289343, Time Taken 4.999931335449219\n",
      "Epoch 16 done, Epoch Loss 22.45833796820807, Time Taken 5.249897718429565\n",
      "Epoch 17 done, Epoch Loss 20.308872459252598, Time Taken 5.497846364974976\n",
      "Epoch 18 done, Epoch Loss 18.697351620619884, Time Taken 5.7822325229644775\n",
      "Epoch 19 done, Epoch Loss 18.380540319874854, Time Taken 5.344578742980957\n",
      "Epoch 20 done, Epoch Loss 15.957606645784836, Time Taken 5.879132032394409\n",
      "Epoch 21 done, Epoch Loss 16.25240096241032, Time Taken 5.663370609283447\n",
      "Epoch 22 done, Epoch Loss 14.174166809381859, Time Taken 6.969243049621582\n",
      "Epoch 23 done, Epoch Loss 15.754506348757786, Time Taken 6.737854957580566\n",
      "Epoch 24 done, Epoch Loss 14.954623132136476, Time Taken 6.489997386932373\n",
      "Epoch 25 done, Epoch Loss 15.318773223763856, Time Taken 6.3877034187316895\n",
      "Epoch 26 done, Epoch Loss 14.243203517937218, Time Taken 6.727043390274048\n",
      "Epoch 27 done, Epoch Loss 10.219342927931393, Time Taken 6.6546430587768555\n",
      "Epoch 28 done, Epoch Loss 13.408801319951635, Time Taken 10.191332817077637\n",
      "Epoch 29 done, Epoch Loss 14.526513850412812, Time Taken 13.914535760879517\n",
      "Epoch 0 done, Epoch Loss 2421.7361183464527, Time Taken 80.59819436073303\n",
      "Epoch 1 done, Epoch Loss 1907.8498130887747, Time Taken 65.930584192276\n",
      "Epoch 2 done, Epoch Loss 1757.7440432310104, Time Taken 71.32135939598083\n",
      "Epoch 3 done, Epoch Loss 1675.1523987650871, Time Taken 52.46439862251282\n",
      "Epoch 4 done, Epoch Loss 1624.54648989439, Time Taken 27.037209510803223\n",
      "Epoch 5 done, Epoch Loss 1579.1973322629929, Time Taken 26.451169967651367\n",
      "Epoch 6 done, Epoch Loss 1541.4142633453012, Time Taken 27.493088245391846\n",
      "Epoch 7 done, Epoch Loss 1502.4505988284945, Time Taken 26.218000411987305\n",
      "Epoch 8 done, Epoch Loss 1466.2224095463753, Time Taken 28.028067588806152\n",
      "Epoch 9 done, Epoch Loss 1426.6152109652758, Time Taken 25.898957014083862\n",
      "Epoch 10 done, Epoch Loss 1393.0435853525996, Time Taken 26.972084522247314\n",
      "Epoch 11 done, Epoch Loss 1364.7710105031729, Time Taken 28.71981644630432\n",
      "Epoch 12 done, Epoch Loss 1337.8117767721415, Time Taken 27.127686023712158\n",
      "Epoch 13 done, Epoch Loss 1318.7730759680271, Time Taken 37.94387936592102\n",
      "Epoch 14 done, Epoch Loss 1300.2478348314762, Time Taken 33.141419887542725\n",
      "Epoch 15 done, Epoch Loss 1280.906138792634, Time Taken 101.65633749961853\n",
      "Epoch 16 done, Epoch Loss 1264.8447801098228, Time Taken 83.6058099269867\n",
      "Epoch 17 done, Epoch Loss 1246.0360234752297, Time Taken 99.8445930480957\n",
      "Epoch 18 done, Epoch Loss 1226.1353633329272, Time Taken 111.27385878562927\n",
      "Epoch 19 done, Epoch Loss 1211.8211390525103, Time Taken 120.28399682044983\n",
      "Epoch 20 done, Epoch Loss 1195.2901388928294, Time Taken 122.15585112571716\n",
      "Epoch 21 done, Epoch Loss 1182.8206785544753, Time Taken 119.2464108467102\n",
      "Epoch 22 done, Epoch Loss 1172.2291404940188, Time Taken 122.60497164726257\n",
      "Epoch 23 done, Epoch Loss 1161.903070256114, Time Taken 125.47052931785583\n",
      "Epoch 24 done, Epoch Loss 1156.2784714996815, Time Taken 109.49348568916321\n",
      "Epoch 25 done, Epoch Loss 1153.6112951040268, Time Taken 114.72117185592651\n",
      "Epoch 26 done, Epoch Loss 1146.54706710577, Time Taken 95.48685359954834\n",
      "Epoch 27 done, Epoch Loss 1136.878113143146, Time Taken 108.77429723739624\n",
      "Epoch 28 done, Epoch Loss 1133.3183018490672, Time Taken 105.72508978843689\n",
      "Epoch 29 done, Epoch Loss 1124.3078913092613, Time Taken 33.88851237297058\n"
     ]
    }
   ],
   "source": [
    "train_dataloader, test_dataloader = load_dataloader('mnist_data/')\n",
    "base_model = load_model()\n",
    "base_model.to('cuda')\n",
    "\n",
    "robust_model = load_model()\n",
    "robust_model.to('cuda')\n",
    "\n",
    "#Train using HW1 code\n",
    "\n",
    "# # Train the base model\n",
    "train_model(base_model, 30, train_dataloader, enable_defense=False)\n",
    "\n",
    "\n",
    "#Train the robust model\n",
    "train_model(robust_model, 30, train_dataloader, enable_defense=True, eps=0.2)\n",
    "\n"
   ]
  },
  {
   "cell_type": "code",
   "execution_count": 9,
   "metadata": {},
   "outputs": [],
   "source": [
    "torch.save(base_model.state_dict(), f'weights_base2.pt')\n",
    "torch.save(robust_model.state_dict(), f'weights_robust2.pt')"
   ]
  },
  {
   "cell_type": "markdown",
   "metadata": {},
   "source": [
    "### Verify with Epsilon"
   ]
  },
  {
   "cell_type": "code",
   "execution_count": 10,
   "metadata": {},
   "outputs": [],
   "source": [
    "def VerifyModel(model: IntervalModel, test_dataloader, eps):\n",
    "    verified_count = 0\n",
    "    total_count = 0\n",
    "    \n",
    "    for i, data in enumerate(test_dataloader):\n",
    "        inputs, labels = data\n",
    "        inputs = inputs.cuda()\n",
    "        labels = labels.cuda()\n",
    "        interval = Interval((inputs-eps).cuda(), (inputs+eps).cuda())\n",
    "        output_interval = model(interval)\n",
    "        for num in range(len(labels)):\n",
    "            true_class = labels[num]\n",
    "            target_lower = output_interval.lower[num][true_class]\n",
    "            target_upper = output_interval.upper[num][true_class]\n",
    "            verified = True\n",
    "            for j in range(10):\n",
    "                if j != true_class:\n",
    "                    current_lower = output_interval.lower[num][j]\n",
    "                    current_upper = output_interval.upper[num][j]\n",
    "                    diff_lower = target_lower - current_upper\n",
    "                    if diff_lower < 0:\n",
    "                        verified = False\n",
    "                        break\n",
    "            if verified:\n",
    "                verified_count += 1\n",
    "            total_count += 1\n",
    "    print(f\"Verified {verified_count} out of {total_count} samples, {verified_count/total_count*100}%\")\n",
    "    return verified_count, total_count"
   ]
  },
  {
   "cell_type": "code",
   "execution_count": 11,
   "metadata": {},
   "outputs": [],
   "source": [
    "base_model.eval()\n",
    "robust_model.eval()\n",
    "\n",
    "base_interval_model = IntervalModel(base_model)\n",
    "robust_interval_model = IntervalModel(robust_model)"
   ]
  },
  {
   "cell_type": "code",
   "execution_count": 15,
   "metadata": {},
   "outputs": [
    {
     "data": {
      "image/png": "[encoded data removed]",
      "text/plain": [
       "<Figure size 640x480 with 1 Axes>"
      ]
     },
     "metadata": {},
     "output_type": "display_data"
    }
   ],
   "source": [
    "base_accs = []\n",
    "robust_accs = []\n",
    "for eps in np.arange(0.01, 0.11, 0.01):\n",
    "    print(f\"Verifying base model with eps={eps}\")\n",
    "    v_count, t_count = VerifyModel(base_interval_model, test_dataloader, eps)\n",
    "    base_accs.append(v_count/t_count)\n",
    "    print(f\"Verifying robust model with eps={eps}\")\n",
    "    v_count, t_count = VerifyModel(robust_interval_model, test_dataloader, eps)\n",
    "    robust_accs.append(v_count/t_count)\n",
    "import matplotlib.pyplot as plt\n",
    "plt.plot(np.arange(0.01, 0.11, 0.01), base_accs, label='Base Model Verification Score')\n",
    "plt.plot(np.arange(0.01, 0.11, 0.01), robust_accs, label='Robust Model Verification Score')\n",
    "plt.xlabel('Epsilon')\n",
    "plt.ylabel('Verification Score')\n",
    "plt.legend()\n",
    "plt.show()\n"
   ]
  },
  {
   "cell_type": "markdown",
   "metadata": {},
   "source": [
    "### Adversarial Robustness"
   ]
  },
  {
   "cell_type": "markdown",
   "metadata": {},
   "source": []
  },
  {
   "cell_type": "code",
   "execution_count": 13,
   "metadata": {},
   "outputs": [
    {
     "name": "stdout",
     "output_type": "stream",
     "text": [
      "Verifying base model with epsilon=0.01\n",
      "Testing Vanilla Accuracy: 0.9717\n",
      "Testing Attack Accuracy: 0.9096\n",
      "Testing Robust Accuracy: 0.9096\n",
      "Verifying robust model with epsilon=0.01\n",
      "Testing Vanilla Accuracy: 0.9402\n",
      "Testing Attack Accuracy: 0.9342\n",
      "Testing Robust Accuracy: 0.9342\n",
      "Verifying base model with epsilon=0.02\n",
      "Testing Vanilla Accuracy: 0.9717\n",
      "Testing Attack Accuracy: 0.773\n",
      "Testing Robust Accuracy: 0.773\n",
      "Verifying robust model with epsilon=0.02\n",
      "Testing Vanilla Accuracy: 0.9402\n",
      "Testing Attack Accuracy: 0.9273\n",
      "Testing Robust Accuracy: 0.9273\n",
      "Verifying base model with epsilon=0.03\n",
      "Testing Vanilla Accuracy: 0.9717\n",
      "Testing Attack Accuracy: 0.5651\n",
      "Testing Robust Accuracy: 0.5651\n",
      "Verifying robust model with epsilon=0.03\n",
      "Testing Vanilla Accuracy: 0.9402\n",
      "Testing Attack Accuracy: 0.9189\n",
      "Testing Robust Accuracy: 0.9189\n",
      "Verifying base model with epsilon=0.04\n",
      "Testing Vanilla Accuracy: 0.9717\n",
      "Testing Attack Accuracy: 0.3798\n",
      "Testing Robust Accuracy: 0.3798\n",
      "Verifying robust model with epsilon=0.04\n",
      "Testing Vanilla Accuracy: 0.9402\n",
      "Testing Attack Accuracy: 0.9118\n",
      "Testing Robust Accuracy: 0.9118\n",
      "Verifying base model with epsilon=0.05\n",
      "Testing Vanilla Accuracy: 0.9717\n",
      "Testing Attack Accuracy: 0.2536\n",
      "Testing Robust Accuracy: 0.2536\n",
      "Verifying robust model with epsilon=0.05\n",
      "Testing Vanilla Accuracy: 0.9402\n",
      "Testing Attack Accuracy: 0.9035\n",
      "Testing Robust Accuracy: 0.9035\n",
      "Verifying base model with epsilon=0.060000000000000005\n",
      "Testing Vanilla Accuracy: 0.9717\n",
      "Testing Attack Accuracy: 0.167\n",
      "Testing Robust Accuracy: 0.167\n",
      "Verifying robust model with epsilon=0.060000000000000005\n",
      "Testing Vanilla Accuracy: 0.9402\n",
      "Testing Attack Accuracy: 0.8943\n",
      "Testing Robust Accuracy: 0.8943\n",
      "Verifying base model with epsilon=0.06999999999999999\n",
      "Testing Vanilla Accuracy: 0.9717\n",
      "Testing Attack Accuracy: 0.1052\n",
      "Testing Robust Accuracy: 0.1052\n",
      "Verifying robust model with epsilon=0.06999999999999999\n",
      "Testing Vanilla Accuracy: 0.9402\n",
      "Testing Attack Accuracy: 0.886\n",
      "Testing Robust Accuracy: 0.886\n",
      "Verifying base model with epsilon=0.08\n",
      "Testing Vanilla Accuracy: 0.9717\n",
      "Testing Attack Accuracy: 0.0648\n",
      "Testing Robust Accuracy: 0.0648\n",
      "Verifying robust model with epsilon=0.08\n",
      "Testing Vanilla Accuracy: 0.9402\n",
      "Testing Attack Accuracy: 0.8751\n",
      "Testing Robust Accuracy: 0.8751\n",
      "Verifying base model with epsilon=0.09\n",
      "Testing Vanilla Accuracy: 0.9717\n",
      "Testing Attack Accuracy: 0.0408\n",
      "Testing Robust Accuracy: 0.0408\n",
      "Verifying robust model with epsilon=0.09\n",
      "Testing Vanilla Accuracy: 0.9402\n",
      "Testing Attack Accuracy: 0.8638\n",
      "Testing Robust Accuracy: 0.8638\n"
     ]
    }
   ],
   "source": [
    "for eps in np.arange(0.01, 0.1, 0.01):\n",
    "    print(f\"Verifying base model with epsilon={eps}\")\n",
    "    test_model_on_attacks(base_model, test_dataloader, eps=eps)\n",
    "    print(f\"Verifying robust model with epsilon={eps}\")\n",
    "    test_model_on_attacks(robust_model, test_dataloader, eps=eps)"
   ]
  },
  {
   "cell_type": "code",
   "execution_count": null,
   "metadata": {},
   "outputs": [],
   "source": []
  }
 ],
 "metadata": {
  "kernelspec": {
   "display_name": "Python 3",
   "language": "python",
   "name": "python3"
  },
  "language_info": {
   "codemirror_mode": {
    "name": "ipython",
    "version": 3
   },
   "file_extension": ".py",
   "mimetype": "text/x-python",
   "name": "python",
   "nbconvert_exporter": "python",
   "pygments_lexer": "ipython3",
   "version": "3.10.8"
  }
 },
 "nbformat": 4,
 "nbformat_minor": 2
}
