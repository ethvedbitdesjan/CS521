{
 "cells": [
  {
   "cell_type": "code",
   "execution_count": 1,
   "metadata": {},
   "outputs": [],
   "source": [
    "import os\n",
    "from data_utils import *\n",
    "from model_utils import *\n",
    "from interval_model import *\n",
    "from train_test import *\n",
    "import gc\n",
    "import numpy as np"
   ]
  },
  {
   "cell_type": "code",
   "execution_count": 2,
   "metadata": {},
   "outputs": [
    {
     "data": {
      "text/plain": [
       "(torch.Size([64, 256]), torch.Size([64]))"
      ]
     },
     "execution_count": 2,
     "metadata": {},
     "output_type": "execute_result"
    }
   ],
   "source": [
    "word_subs = 'word_subs1.json'\n",
    "\n",
    "train_dataloader, test_dataloader = load_dataloader('', imdb=True, word_subs=word_subs, batch_size=64)\n",
    "\n",
    "data = next(iter(train_dataloader))\n",
    "data[0].shape, data[1].shape"
   ]
  },
  {
   "cell_type": "markdown",
   "metadata": {},
   "source": [
    "# Verified Training"
   ]
  },
  {
   "cell_type": "code",
   "execution_count": 3,
   "metadata": {},
   "outputs": [],
   "source": [
    "base_model = BOWModel(train_dataloader.dataset.embeddings, train_dataloader.dataset.pad_idx)\n",
    "base_model.to('cuda')\n",
    "# state_dict = torch.load('base_model1.pth')\n",
    "# base_model.load_state_dict(state_dict)\n",
    "interval_model = IntervalModel(base_model, mur_computation=True).to('cuda')"
   ]
  },
  {
   "cell_type": "code",
   "execution_count": 4,
   "metadata": {},
   "outputs": [
    {
     "name": "stdout",
     "output_type": "stream",
     "text": [
      "Time for loop: 4.5178382396698\n",
      "Epoch 0: Loss: 0.4663, Accuracy: 77.18%, Verified Accuracy: 0.00%, epsilon: 0.0000, kappa: 1.00, Time: 4.52s\n",
      "Time for loop: 417.6245810985565\n",
      "Epoch 1: Loss: 0.3935, Accuracy: 82.56%, Verified Accuracy: 78.12%, epsilon: 0.0111, kappa: 0.94, Time: 417.62s\n",
      "Time for loop: 381.815758228302\n",
      "Epoch 2: Loss: 0.3783, Accuracy: 84.32%, Verified Accuracy: 77.10%, epsilon: 0.0222, kappa: 0.89, Time: 381.82s\n",
      "Time for loop: 411.56813502311707\n",
      "Epoch 3: Loss: 0.3749, Accuracy: 84.98%, Verified Accuracy: 76.49%, epsilon: 0.0333, kappa: 0.83, Time: 411.57s\n",
      "Time for loop: 453.78313302993774\n",
      "Epoch 4: Loss: 0.3832, Accuracy: 85.34%, Verified Accuracy: 75.29%, epsilon: 0.0444, kappa: 0.78, Time: 453.78s\n",
      "Time for loop: 366.7028806209564\n",
      "Epoch 5: Loss: 0.3936, Accuracy: 85.77%, Verified Accuracy: 73.77%, epsilon: 0.0556, kappa: 0.72, Time: 366.70s\n",
      "Time for loop: 363.1786513328552\n",
      "Epoch 6: Loss: 0.4086, Accuracy: 85.92%, Verified Accuracy: 73.01%, epsilon: 0.0667, kappa: 0.67, Time: 363.18s\n",
      "Time for loop: 424.53319787979126\n",
      "Epoch 7: Loss: 0.4255, Accuracy: 85.78%, Verified Accuracy: 72.28%, epsilon: 0.0778, kappa: 0.61, Time: 424.53s\n",
      "Time for loop: 370.70072770118713\n",
      "Epoch 8: Loss: 0.4436, Accuracy: 85.64%, Verified Accuracy: 71.51%, epsilon: 0.0889, kappa: 0.56, Time: 370.70s\n",
      "Time for loop: 458.3220775127411\n",
      "Epoch 9: Loss: 0.4592, Accuracy: 85.31%, Verified Accuracy: 71.60%, epsilon: 0.1000, kappa: 0.50, Time: 458.32s\n",
      "Total Time: 3652.7499809265137, Average Time: 365.27499809265134, Std Time: 124.6362061657028\n"
     ]
    }
   ],
   "source": [
    "epoch_times = train_text_verified(base_model, interval_model, train_dataloader, train_dataloader.dataset, num_epochs=10, elide_last=True)\n",
    "\n",
    "print(f\"Total Time: {np.sum(epoch_times)}, Average Time: {np.mean(epoch_times)}, Std Time: {np.std(epoch_times)}\")"
   ]
  },
  {
   "cell_type": "code",
   "execution_count": 5,
   "metadata": {},
   "outputs": [
    {
     "name": "stdout",
     "output_type": "stream",
     "text": [
      "Testing on eps: 0.01\n",
      "Time for loop: 470.7357888221741\n",
      "Epoch 0: Loss: 0.3704, Accuracy: 83.88%, Verified Accuracy: 82.71%, epsilon: 0.0100, kappa: 1.00, Time: 470.74s\n",
      "Testing on eps: 0.02\n",
      "Time for loop: 375.9930899143219\n",
      "Epoch 0: Loss: 0.3704, Accuracy: 83.88%, Verified Accuracy: 81.46%, epsilon: 0.0200, kappa: 1.00, Time: 375.99s\n",
      "Testing on eps: 0.03\n",
      "Time for loop: 371.2543978691101\n",
      "Epoch 0: Loss: 0.3704, Accuracy: 83.88%, Verified Accuracy: 80.27%, epsilon: 0.0300, kappa: 1.00, Time: 371.25s\n",
      "Testing on eps: 0.04\n",
      "Time for loop: 381.90950560569763\n",
      "Epoch 0: Loss: 0.3704, Accuracy: 83.88%, Verified Accuracy: 78.98%, epsilon: 0.0400, kappa: 1.00, Time: 381.91s\n",
      "Testing on eps: 0.05\n",
      "Time for loop: 371.26103258132935\n",
      "Epoch 0: Loss: 0.3704, Accuracy: 83.88%, Verified Accuracy: 77.70%, epsilon: 0.0500, kappa: 1.00, Time: 371.26s\n",
      "Testing on eps: 0.060000000000000005\n",
      "Time for loop: 383.1868233680725\n",
      "Epoch 0: Loss: 0.3704, Accuracy: 83.88%, Verified Accuracy: 76.26%, epsilon: 0.0600, kappa: 1.00, Time: 383.19s\n",
      "Testing on eps: 0.06999999999999999\n",
      "Time for loop: 373.3690438270569\n",
      "Epoch 0: Loss: 0.3704, Accuracy: 83.88%, Verified Accuracy: 74.70%, epsilon: 0.0700, kappa: 1.00, Time: 373.37s\n",
      "Testing on eps: 0.08\n",
      "Time for loop: 373.04950857162476\n",
      "Epoch 0: Loss: 0.3704, Accuracy: 83.88%, Verified Accuracy: 73.18%, epsilon: 0.0800, kappa: 1.00, Time: 373.05s\n",
      "Testing on eps: 0.09\n",
      "Time for loop: 382.351567029953\n",
      "Epoch 0: Loss: 0.3704, Accuracy: 83.88%, Verified Accuracy: 71.63%, epsilon: 0.0900, kappa: 1.00, Time: 382.35s\n",
      "Testing on eps: 0.09999999999999999\n",
      "Time for loop: 377.220502614975\n",
      "Epoch 0: Loss: 0.3704, Accuracy: 83.88%, Verified Accuracy: 69.90%, epsilon: 0.1000, kappa: 1.00, Time: 377.22s\n"
     ]
    }
   ],
   "source": [
    "for eps in np.arange(0.01, 0.11, 0.01):\n",
    "    print(f\"Testing on eps: {eps}\")\n",
    "    train_text_verified(base_model, interval_model, test_dataloader, train_dataloader.dataset, num_epochs=1, elide_last=False, eps=eps, test_mode=True)"
   ]
  },
  {
   "cell_type": "markdown",
   "metadata": {},
   "source": [
    "# Standard Training"
   ]
  },
  {
   "cell_type": "code",
   "execution_count": 3,
   "metadata": {},
   "outputs": [],
   "source": [
    "base_model = BOWModel(train_dataloader.dataset.embeddings, train_dataloader.dataset.pad_idx)\n",
    "base_model.to('cuda')\n",
    "state_dict = torch.load('base_modeltext.pth')\n",
    "base_model.load_state_dict(state_dict)\n",
    "interval_model = IntervalModel(base_model, mur_computation=True).to('cuda')"
   ]
  },
  {
   "cell_type": "code",
   "execution_count": 4,
   "metadata": {},
   "outputs": [
    {
     "name": "stdout",
     "output_type": "stream",
     "text": [
      "Time for loop: 5.028216123580933\n",
      "Epoch 0: Loss: 0.4729, Accuracy: 76.28%, Verified Accuracy: 0.00%, epsilon: 0.0000, kappa: 1.00, Time: 5.03s\n",
      "Time for loop: 4.6910786628723145\n",
      "Epoch 1: Loss: 0.3611, Accuracy: 83.08%, Verified Accuracy: 0.00%, epsilon: 0.0000, kappa: 0.94, Time: 4.69s\n",
      "Time for loop: 4.774171590805054\n",
      "Epoch 2: Loss: 0.3196, Accuracy: 84.47%, Verified Accuracy: 0.00%, epsilon: 0.0000, kappa: 0.89, Time: 4.77s\n",
      "Time for loop: 5.586472034454346\n",
      "Epoch 3: Loss: 0.2869, Accuracy: 85.24%, Verified Accuracy: 0.00%, epsilon: 0.0000, kappa: 0.83, Time: 5.59s\n",
      "Time for loop: 5.413620948791504\n",
      "Epoch 4: Loss: 0.2503, Accuracy: 86.45%, Verified Accuracy: 0.00%, epsilon: 0.0000, kappa: 0.78, Time: 5.41s\n",
      "Time for loop: 5.325513601303101\n",
      "Epoch 5: Loss: 0.2217, Accuracy: 87.13%, Verified Accuracy: 0.00%, epsilon: 0.0000, kappa: 0.72, Time: 5.33s\n",
      "Time for loop: 5.329435348510742\n",
      "Epoch 6: Loss: 0.1906, Accuracy: 88.23%, Verified Accuracy: 0.00%, epsilon: 0.0000, kappa: 0.67, Time: 5.33s\n",
      "Time for loop: 5.691118478775024\n",
      "Epoch 7: Loss: 0.1696, Accuracy: 88.56%, Verified Accuracy: 0.00%, epsilon: 0.0000, kappa: 0.61, Time: 5.69s\n",
      "Time for loop: 5.726609468460083\n",
      "Epoch 8: Loss: 0.1431, Accuracy: 89.66%, Verified Accuracy: 0.00%, epsilon: 0.0000, kappa: 0.56, Time: 5.73s\n",
      "Time for loop: 6.049044847488403\n",
      "Epoch 9: Loss: 0.1195, Accuracy: 90.48%, Verified Accuracy: 0.00%, epsilon: 0.0000, kappa: 0.50, Time: 6.05s\n",
      "Total Time: 53.61627459526062, Average Time: 5.361627459526062, Std Time: 0.409456617593657\n"
     ]
    }
   ],
   "source": [
    "epoch_times = train_text_verified(base_model, interval_model, train_dataloader, train_dataloader.dataset, num_epochs=10, elide_last=False, eps=0.0)\n",
    "\n",
    "print(f\"Total Time: {np.sum(epoch_times)}, Average Time: {np.mean(epoch_times)}, Std Time: {np.std(epoch_times)}\")"
   ]
  },
  {
   "cell_type": "code",
   "execution_count": 4,
   "metadata": {},
   "outputs": [
    {
     "name": "stdout",
     "output_type": "stream",
     "text": [
      "Testing on eps: 0.01\n",
      "Time for loop: 480.2958381175995\n",
      "Epoch 0: Loss: 0.3617, Accuracy: 84.66%, Verified Accuracy: 77.36%, epsilon: 0.0100, kappa: 1.00, Time: 480.30s\n",
      "Testing on eps: 0.02\n",
      "Time for loop: 452.1203875541687\n",
      "Epoch 0: Loss: 0.3617, Accuracy: 84.66%, Verified Accuracy: 68.31%, epsilon: 0.0200, kappa: 1.00, Time: 452.12s\n",
      "Testing on eps: 0.03\n",
      "Time for loop: 430.96066427230835\n",
      "Epoch 0: Loss: 0.3617, Accuracy: 84.66%, Verified Accuracy: 58.10%, epsilon: 0.0300, kappa: 1.00, Time: 430.96s\n",
      "Testing on eps: 0.04\n",
      "Time for loop: 498.5187211036682\n",
      "Epoch 0: Loss: 0.3617, Accuracy: 84.66%, Verified Accuracy: 47.62%, epsilon: 0.0400, kappa: 1.00, Time: 498.52s\n",
      "Testing on eps: 0.05\n",
      "Time for loop: 447.2361719608307\n",
      "Epoch 0: Loss: 0.3617, Accuracy: 84.66%, Verified Accuracy: 37.61%, epsilon: 0.0500, kappa: 1.00, Time: 447.24s\n",
      "Testing on eps: 0.060000000000000005\n",
      "Time for loop: 594.6508650779724\n",
      "Epoch 0: Loss: 0.3617, Accuracy: 84.66%, Verified Accuracy: 28.94%, epsilon: 0.0600, kappa: 1.00, Time: 594.65s\n",
      "Testing on eps: 0.06999999999999999\n",
      "Time for loop: 441.3602569103241\n",
      "Epoch 0: Loss: 0.3617, Accuracy: 84.66%, Verified Accuracy: 22.09%, epsilon: 0.0700, kappa: 1.00, Time: 441.36s\n",
      "Testing on eps: 0.08\n",
      "Time for loop: 631.5365018844604\n",
      "Epoch 0: Loss: 0.3617, Accuracy: 84.66%, Verified Accuracy: 16.17%, epsilon: 0.0800, kappa: 1.00, Time: 631.54s\n",
      "Testing on eps: 0.09\n",
      "Time for loop: 413.9084675312042\n",
      "Epoch 0: Loss: 0.3617, Accuracy: 84.66%, Verified Accuracy: 11.54%, epsilon: 0.0900, kappa: 1.00, Time: 413.91s\n",
      "Testing on eps: 0.09999999999999999\n",
      "Time for loop: 408.2754793167114\n",
      "Epoch 0: Loss: 0.3617, Accuracy: 84.66%, Verified Accuracy: 8.36%, epsilon: 0.1000, kappa: 1.00, Time: 408.28s\n"
     ]
    }
   ],
   "source": [
    "for eps in np.arange(0.01, 0.11, 0.01):\n",
    "    print(f\"Testing on eps: {eps}\")\n",
    "    train_text_verified(base_model, interval_model, test_dataloader, train_dataloader.dataset, num_epochs=1, elide_last=False, eps=eps, test_mode=True)"
   ]
  },
  {
   "cell_type": "code",
   "execution_count": null,
   "metadata": {},
   "outputs": [],
   "source": []
  }
 ],
 "metadata": {
  "kernelspec": {
   "display_name": "Python 3",
   "language": "python",
   "name": "python3"
  },
  "language_info": {
   "codemirror_mode": {
    "name": "ipython",
    "version": 3
   },
   "file_extension": ".py",
   "mimetype": "text/x-python",
   "name": "python",
   "nbconvert_exporter": "python",
   "pygments_lexer": "ipython3",
   "version": "3.10.8"
  }
 },
 "nbformat": 4,
 "nbformat_minor": 2
}
